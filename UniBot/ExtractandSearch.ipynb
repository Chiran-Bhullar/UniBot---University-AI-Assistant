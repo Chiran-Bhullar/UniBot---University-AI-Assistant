{
 "cells": [
  {
   "cell_type": "markdown",
   "id": "a7b771a3-68b8-4f39-998a-16126c52766e",
   "metadata": {},
   "source": [
    "### Extract Data from the Unniversity Web Site\n",
    " - We are extracting only 20 links for this proptype\n",
    " - No filterning is done on the text extracted from the pages\n",
    "\n",
    " - Python Packages\n",
    "     - sentence-transformers ## for embedding model\n",
    "     - qdrant-client         ## for interacting with qdrant and inmemory qdrant\n",
    "     - langchain             ## for tokenizing the text\n",
    "     - beautifulsoup4        ## for extrating the text from HTML pages\n",
    "     - lxml                  ## used by above package\n",
    "  "
   ]
  },
  {
   "cell_type": "code",
   "execution_count": 1,
   "id": "c1428738-3a55-47ff-8f1f-985a728c8ccb",
   "metadata": {},
   "outputs": [],
   "source": [
    "import requests\n",
    "from bs4 import BeautifulSoup\n",
    "\n",
    "def get_website_text(url):\n",
    "    response = requests.get(url)\n",
    "    html_content = response.text\n",
    "    soup = BeautifulSoup(html_content, \"html.parser\")\n",
    "    text = soup.get_text(separator=\"\\n\", strip=True)\n",
    "    return text\n",
    "\n",
    "def get_all_links(site):\n",
    "    url = site\n",
    "    reqs = requests.get(url)\n",
    "    soup = BeautifulSoup(reqs.text, 'html.parser')\n",
    "    \n",
    "    urls = []\n",
    "    for link in soup.find_all('a'):\n",
    "        site = link.get('href')\n",
    "        if site is not None:\n",
    "            if site.startswith(\"https\"):\n",
    "                urls.append(site)\n",
    "    return urls\n",
    "\"\"\"\n",
    "It returns a array of dictionary containing html_text of link and reference of the link\n",
    "\"\"\"\n",
    "def get_all_data_with_links(urls):\n",
    "    arr_dict = []\n",
    "    for url in urls:\n",
    "        data_dict = {}\n",
    "        data_dict[\"reference\"] = url\n",
    "        data_dict[\"html_text\"] = get_website_text(url)\n",
    "        arr_dict.append(data_dict)\n",
    "        \n",
    "    return arr_dict"
   ]
  },
  {
   "cell_type": "markdown",
   "id": "a98583c9-a054-4359-93fd-c7652877fe0c",
   "metadata": {},
   "source": [
    "### Extract only first 20 links"
   ]
  },
  {
   "cell_type": "code",
   "execution_count": 2,
   "id": "46283ad0-7029-40d5-b849-e68426278e43",
   "metadata": {},
   "outputs": [
    {
     "name": "stdout",
     "output_type": "stream",
     "text": [
      "185\n"
     ]
    }
   ],
   "source": [
    "urls = get_all_links(\"https://lpu.in\")\n",
    "print(len(urls))\n",
    "all_data = get_all_data_with_links(urls[0:20])\n"
   ]
  },
  {
   "cell_type": "code",
   "execution_count": 4,
   "id": "a88e10b1-060b-476b-a95f-a646ec59056f",
   "metadata": {},
   "outputs": [
    {
     "name": "stderr",
     "output_type": "stream",
     "text": [
      "/opt/homebrew/Caskroom/miniforge/base/envs/neural-search/lib/python3.10/site-packages/tqdm/auto.py:21: TqdmWarning: IProgress not found. Please update jupyter and ipywidgets. See https://ipywidgets.readthedocs.io/en/stable/user_install.html\n",
      "  from .autonotebook import tqdm as notebook_tqdm\n"
     ]
    }
   ],
   "source": [
    "from langchain.document_loaders import ReadTheDocsLoader\n",
    "from langchain.text_splitter import RecursiveCharacterTextSplitter\n",
    "from typing import List\n",
    "from transformers import pipeline"
   ]
  },
  {
   "cell_type": "markdown",
   "id": "8b4e5fd6-2b49-4545-b07c-2b01121df820",
   "metadata": {},
   "source": [
    "### Chunk Size is 300 and with a overlap of 50"
   ]
  },
  {
   "cell_type": "code",
   "execution_count": 5,
   "id": "447019cd-b328-4a07-b1ea-340082a3b377",
   "metadata": {},
   "outputs": [],
   "source": [
    "class ChunkData:\n",
    "    def __init__(self, chunk_size=300, chunk_overlap=50):\n",
    "        chunk_size = chunk_size\n",
    "        chunk_overlap = chunk_overlap\n",
    "        self.text_splitter = RecursiveCharacterTextSplitter(\n",
    "                               \n",
    "                                chunk_size=chunk_size,\n",
    "                                chunk_overlap=chunk_overlap,\n",
    "                                length_function=len,\n",
    "                        )\n",
    "    def create_chunks(self, text):\n",
    "        chunks = self.text_splitter.create_documents(\n",
    "                texts=[text[\"html_text\"]], \n",
    "                metadatas=[{\"source\": text[\"reference\"]\n",
    "                   }])\n",
    "        return [{\"text\": chunk.page_content, \"source\": chunk.metadata[\"source\"]} for chunk in chunks]"
   ]
  },
  {
   "cell_type": "code",
   "execution_count": 6,
   "id": "2bb32bf3-5d1f-49db-8cd5-e537a4da826d",
   "metadata": {},
   "outputs": [],
   "source": [
    "chunkData = ChunkData(chunk_size=500)\n",
    "chunks = chunkData.create_chunks(all_data[0])\n",
    "chunk_list = chunkData.create_chunks(all_data[0])\n",
    "for i in range(1,len(all_data)):\n",
    "    c_data = chunkData.create_chunks(all_data[i])\n",
    "    for c in c_data:\n",
    "        chunk_list.append(c)"
   ]
  },
  {
   "cell_type": "code",
   "execution_count": 8,
   "id": "8db0d0a9-40a8-4290-8852-c0eb6c1dee91",
   "metadata": {},
   "outputs": [
    {
     "data": {
      "text/plain": [
       "[{'text': 'CUET - Lovely Professional University\\nUnlock your Potential at LPU: Scholarship for CUET Aspirants. Click Here\\nToday is the last day to apply for LPUNEST with maximum scholarship! Apply Now\\nJobs\\nHappenings\\nConferences\\nStudy Abroad\\nLPUNEST\\nInternational Admissions\\nOnline Education\\nDistance Education\\nContact\\nAdmissions\\nPlacements\\nExplore Programmes\\nAbout\\nOverview\\nInfrastructure\\nAccreditation & Approvals\\nRanking\\nPlacements\\nAlumni\\nLeadership\\nOrganization Structure\\nLocation\\nTour LPU\\nAdmissions',\n",
       "  'source': 'https://www.lpu.in/events/cuet/'},\n",
       " {'text': \"Location\\nTour LPU\\nAdmissions\\nGet Started\\nOverview\\nWhy LPU?\\nScholarship\\nStudy Grant\\nEducation Loan Assistance\\nResidential Facilities\\nTransportation Facilities\\nMigration\\nLPU Buzz (Influencer's Talk)\\nLPU's EDUfair (Webinars)\\nReporting and Induction\\nDISHA (Counselling and Workshops)\\nLPU in Your Town\\nAfter 12th (Undergraduate) Programmes\\nRegular Programmes\\nHons. Programmes with Industry Collaboration\\nWork Integrated Programmes\\nIndustry Collaborative Programmes\",\n",
       "  'source': 'https://www.lpu.in/events/cuet/'},\n",
       " {'text': 'Industry Collaborative Programmes\\nInternational Credit Transfer Programmes\\nHons. Programmes\\nIntegrated Programmes\\nAfter 10th Programmes\\nAfter Diploma or Certificate Programmes\\nShort Term Courses\\nAfter Graduation (Post Graduate) Programmes\\nRegular Programmes\\nHons. Programmes with Industry Collaboration\\nIndustry Collaborative Programmes\\nInternational Credit Transfer Programmes\\nHons. Programmes\\nPart Time Programmes\\nAfter Post Graduation Programmes\\nDoctoral Programmes\\nAfter Doctoral Programmes',\n",
       "  'source': 'https://www.lpu.in/events/cuet/'}]"
      ]
     },
     "execution_count": 8,
     "metadata": {},
     "output_type": "execute_result"
    }
   ],
   "source": [
    "chunk_list[0:3]"
   ]
  },
  {
   "cell_type": "markdown",
   "id": "3bb6d8d4-6561-4050-8775-57d193b01f5e",
   "metadata": {},
   "source": [
    "### Load the Data into Qdrant"
   ]
  },
  {
   "cell_type": "code",
   "execution_count": 9,
   "id": "d52001ea-6e65-4ee9-93de-079694c41482",
   "metadata": {},
   "outputs": [],
   "source": [
    "from qdrant_client import models, QdrantClient\n",
    "from sentence_transformers import SentenceTransformer"
   ]
  },
  {
   "cell_type": "markdown",
   "id": "3981a23a-fb9a-446e-8d3a-8c54c8f92ac3",
   "metadata": {},
   "source": [
    "### Use the following model for converting the text into embeddings"
   ]
  },
  {
   "cell_type": "code",
   "execution_count": 10,
   "id": "b3275393-bf5d-4f56-8942-50dce9e3ba10",
   "metadata": {},
   "outputs": [],
   "source": [
    "client = QdrantClient(\":memory:\")\n",
    "encoder = SentenceTransformer(\"sentence-transformers/all-MiniLM-L6-v2\")"
   ]
  },
  {
   "cell_type": "markdown",
   "id": "0cbf059a-10aa-4b35-9a7f-c298ce48303c",
   "metadata": {},
   "source": [
    "### Use In memory Qdrant Database (Qdrant is a vector database)"
   ]
  },
  {
   "cell_type": "code",
   "execution_count": 11,
   "id": "5b3de630-6e54-47ba-a408-d8d033489290",
   "metadata": {},
   "outputs": [
    {
     "name": "stderr",
     "output_type": "stream",
     "text": [
      "/var/folders/7n/fc621x5j687f3ld3z0h7gjtr0000gn/T/ipykernel_39631/2638795474.py:2: DeprecationWarning: `recreate_collection` method is deprecated and will be removed in the future. Use `collection_exists` to check collection existence and `create_collection` instead.\n",
      "  qdrant.recreate_collection(\n"
     ]
    },
    {
     "data": {
      "text/plain": [
       "True"
      ]
     },
     "execution_count": 11,
     "metadata": {},
     "output_type": "execute_result"
    }
   ],
   "source": [
    "qdrant = QdrantClient(\":memory:\")\n",
    "qdrant.recreate_collection(\n",
    "    collection_name=\"university_data\",\n",
    "    vectors_config=models.VectorParams(\n",
    "        size=encoder.get_sentence_embedding_dimension(),  # Vector size is defined by used model\n",
    "        distance=models.Distance.COSINE,\n",
    "    ),\n",
    ")"
   ]
  },
  {
   "cell_type": "markdown",
   "id": "e8171f91-c922-4987-838b-1e3e032f3652",
   "metadata": {},
   "source": [
    "### Upload records into Qdrant"
   ]
  },
  {
   "cell_type": "code",
   "execution_count": 12,
   "id": "5fb95a3a-88ba-444f-9655-90570168b8cd",
   "metadata": {},
   "outputs": [
    {
     "name": "stderr",
     "output_type": "stream",
     "text": [
      "/var/folders/7n/fc621x5j687f3ld3z0h7gjtr0000gn/T/ipykernel_39631/79141007.py:1: DeprecationWarning: `upload_records` is deprecated, use `upload_points` instead\n",
      "  qdrant.upload_records(\n"
     ]
    }
   ],
   "source": [
    "qdrant.upload_records(\n",
    "    collection_name=\"university_data\",\n",
    "    records=[\n",
    "        models.Record(\n",
    "            id=idx, vector=encoder.encode(doc[\"text\"]).tolist(), payload=doc\n",
    "        )\n",
    "        for idx, doc in enumerate(chunk_list)\n",
    "    ],\n",
    ")"
   ]
  },
  {
   "cell_type": "markdown",
   "id": "e0b904f2-f757-4f22-89ae-4c3f612d39c8",
   "metadata": {},
   "source": [
    "### Search similar text and return top 3 elements"
   ]
  },
  {
   "cell_type": "code",
   "execution_count": 13,
   "id": "c45f8a6b-42a6-440d-8c94-f56ac8be4029",
   "metadata": {},
   "outputs": [
    {
     "name": "stdout",
     "output_type": "stream",
     "text": [
      "{'text': 'Admission and Scholarship\\nOnly Scholarship\\nAdmission Process User Guide\\nHow to Apply\\nImportant Dates\\nCovid-19 Initiatives\\nFAQs\\nSuccess link\\n×\\nSuccess\\nPlease check your inbox we have sent you a link,\\nClick on it to reset your password\\nOk\\nError link\\nError\\nError\\nOk\\n×\\nConfirm\\nDo you want to copy the form Form-name.\\nNo\\nYes\\n×\\nConfirm\\nDo you want to copy the form Form-name.\\nNo\\nYes\\nConfirmation\\nYou have filtered Paid Applicants\\nOk\\nConfirmation\\nResubmission Logic added successfully !\\nOk\\n×\\nRe-assign User', 'source': 'https://admission.lpu.in/'} score: 0.6225961441644048\n",
      "{'text': 'Overview\\nProgramme Offered\\nEnglish Language Requirement\\nScholarship\\nHow to Apply\\nOnline Education\\nProgrammes\\nApply Now\\nDistance Education\\nAbout\\nProgrammes on offer\\nEnquire Now\\nInternational\\nGet Started\\nHow to Apply\\nApply Online\\nHow to Pay\\nSchlorship\\nAdmission Guidelines\\nAdmission Authetication\\nEnglish Language Requirement\\nOur Global Representatives\\nProgramme Offered\\nDiploma (after O level)\\nUnder Graduate (after A level)\\nPost Graduate (after Graduation)\\nDoctoral (after Post Graduation)', 'source': 'https://www.lpu.in/programmes/all/'} score: 0.6121625035188565\n",
      "{'text': 'Check result for eligibility and scholarship.\\nProceed for Admission by clicking Take Admission button.\\nParticular\\nDate\\nLast date to apply\\n25th April 2024\\nResult date(eligibility and scholarship)\\nWithin 48 hours\\nLast Date of Admission\\nWithin 7 days after declaration of result, subject to last date i.e 5th May 2024. Eg. If the result has been declared anytime after 28th April 2024, then the candidate has to take admission latest by 5th May 2024 only.\\nList of Programmes(with Entrance Test)', 'source': 'https://www.lpu.in/events/cuet/'} score: 0.5841631015962472\n"
     ]
    }
   ],
   "source": [
    "hits = qdrant.search(\n",
    "    collection_name=\"university_data\",\n",
    "    query_vector=encoder.encode(\"how to get scholarship\").tolist(),\n",
    "    limit=1,\n",
    ")\n",
    "for hit in hits:\n",
    "    print(hit.payload, \"score:\", hit.score)"
   ]
  },
  {
   "cell_type": "code",
   "execution_count": null,
   "id": "36109290-d792-43b4-932c-7bded2d96012",
   "metadata": {},
   "outputs": [],
   "source": []
  }
 ],
 "metadata": {
  "kernelspec": {
   "display_name": "Python 3 (ipykernel)",
   "language": "python",
   "name": "python3"
  },
  "language_info": {
   "codemirror_mode": {
    "name": "ipython",
    "version": 3
   },
   "file_extension": ".py",
   "mimetype": "text/x-python",
   "name": "python",
   "nbconvert_exporter": "python",
   "pygments_lexer": "ipython3",
   "version": "3.10.14"
  }
 },
 "nbformat": 4,
 "nbformat_minor": 5
}
